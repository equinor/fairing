{
 "cells": [
  {
   "cell_type": "markdown",
   "metadata": {},
   "source": [
    "# Train and deploy on Kubeflow from Notebooks\n",
    "\n",
    "This notebook introduces you to using Kubeflow Fairing to train and deploy a model to Kubeflow on multiple backends such as Google Kubernetes Engine (GKE), Google Cloud ML Engine and Azure Kubernetes Service (AKS). This notebook demonstrate how to:\n",
    " \n",
    "* Train an XGBoost model in a local notebook,\n",
    "* Use Kubeflow Fairing to train an XGBoost model remotely on Kubeflow using some of the supported backends,\n",
    "* Use Kubeflow Fairing to deploy a trained model to Kubeflow, and\n",
    "* Call the deployed endpoint for predictions.\n",
    "\n",
    "To learn more about how to run this notebook locally, see the guide to [training and deploying on GCP from a local notebook][gcp-local-notebook].\n",
    "\n",
    "[gcp-local-notebook]: https://kubeflow.org/docs/fairing/gcp-local-notebook/"
   ]
  },
  {
   "cell_type": "markdown",
   "metadata": {},
   "source": [
    "## Set up your notebook for training an XGBoost model\n",
    "\n",
    "Import the libraries required to train this model."
   ]
  },
  {
   "cell_type": "code",
   "execution_count": 1,
   "metadata": {},
   "outputs": [
    {
     "name": "stdout",
     "output_type": "stream",
     "text": [
      "/usr/lib/python3/dist-packages/secretstorage/dhcrypto.py:15: CryptographyDeprecationWarning: int_from_bytes is deprecated, use int.from_bytes instead\n",
      "  from cryptography.utils import int_from_bytes\n",
      "/usr/lib/python3/dist-packages/secretstorage/util.py:19: CryptographyDeprecationWarning: int_from_bytes is deprecated, use int.from_bytes instead\n",
      "  from cryptography.utils import int_from_bytes\n",
      "Requirement already satisfied: pandas in /home/jovyan/.local/lib/python3.6/site-packages (from -r requirements.txt (line 1)) (1.1.5)\n",
      "Requirement already satisfied: joblib in /home/jovyan/.local/lib/python3.6/site-packages (from -r requirements.txt (line 2)) (1.0.1)\n",
      "Requirement already satisfied: numpy in /home/jovyan/.local/lib/python3.6/site-packages (from -r requirements.txt (line 3)) (1.18.5)\n",
      "Requirement already satisfied: xgboost in /usr/local/lib/python3.6/dist-packages (from -r requirements.txt (line 4)) (0.90)\n",
      "Requirement already satisfied: scikit-learn<0.22,>=0.21.0 in /home/jovyan/.local/lib/python3.6/site-packages (from -r requirements.txt (line 5)) (0.21.3)\n",
      "Requirement already satisfied: seldon-core in /home/jovyan/.local/lib/python3.6/site-packages (from -r requirements.txt (line 6)) (1.11.0)\n",
      "Requirement already satisfied: tornado>=6.0.3 in /usr/local/lib/python3.6/dist-packages (from -r requirements.txt (line 7)) (6.1)\n",
      "Requirement already satisfied: pytz>=2017.2 in /usr/local/lib/python3.6/dist-packages (from pandas->-r requirements.txt (line 1)) (2019.2)\n",
      "Requirement already satisfied: python-dateutil>=2.7.3 in /usr/local/lib/python3.6/dist-packages (from pandas->-r requirements.txt (line 1)) (2.8.0)\n",
      "Requirement already satisfied: scipy in /home/jovyan/.local/lib/python3.6/site-packages (from xgboost->-r requirements.txt (line 4)) (1.4.1)\n",
      "Requirement already satisfied: Flask-OpenTracing<1.2.0,>=1.1.0 in /home/jovyan/.local/lib/python3.6/site-packages (from seldon-core->-r requirements.txt (line 6)) (1.1.0)\n",
      "Requirement already satisfied: opentracing<2.5.0,>=2.2.0 in /home/jovyan/.local/lib/python3.6/site-packages (from seldon-core->-r requirements.txt (line 6)) (2.4.0)\n",
      "Requirement already satisfied: prometheus-client<0.9.0,>=0.7.1 in /usr/local/lib/python3.6/dist-packages (from seldon-core->-r requirements.txt (line 6)) (0.7.1)\n",
      "Requirement already satisfied: Flask<2.0.0 in /home/jovyan/.local/lib/python3.6/site-packages (from seldon-core->-r requirements.txt (line 6)) (1.1.2)\n",
      "Requirement already satisfied: grpcio-opentracing<1.2.0,>=1.1.4 in /home/jovyan/.local/lib/python3.6/site-packages (from seldon-core->-r requirements.txt (line 6)) (1.1.4)\n",
      "Requirement already satisfied: gunicorn<20.2.0,>=19.9.0 in /home/jovyan/.local/lib/python3.6/site-packages (from seldon-core->-r requirements.txt (line 6)) (20.1.0)\n",
      "Requirement already satisfied: click<8.1,>=8.0.0a1 in /home/jovyan/.local/lib/python3.6/site-packages (from seldon-core->-r requirements.txt (line 6)) (8.0.1)\n",
      "Requirement already satisfied: grpcio-reflection<1.35.0 in /home/jovyan/.local/lib/python3.6/site-packages (from seldon-core->-r requirements.txt (line 6)) (1.34.1)\n",
      "Requirement already satisfied: jaeger-client<4.5.0,>=4.1.0 in /home/jovyan/.local/lib/python3.6/site-packages (from seldon-core->-r requirements.txt (line 6)) (4.4.0)\n",
      "Requirement already satisfied: Flask-cors<4.0.0 in /home/jovyan/.local/lib/python3.6/site-packages (from seldon-core->-r requirements.txt (line 6)) (3.0.10)\n",
      "Collecting urllib3==1.25.9\n",
      "  Using cached urllib3-1.25.9-py2.py3-none-any.whl (126 kB)\n",
      "Requirement already satisfied: setuptools>=41.0.0 in /home/jovyan/.local/lib/python3.6/site-packages (from seldon-core->-r requirements.txt (line 6)) (58.1.0)\n",
      "Requirement already satisfied: flatbuffers<2.0.0 in /home/jovyan/.local/lib/python3.6/site-packages (from seldon-core->-r requirements.txt (line 6)) (1.12)\n",
      "Requirement already satisfied: PyYAML<5.5,>=5.4 in /usr/local/lib/python3.6/dist-packages (from seldon-core->-r requirements.txt (line 6)) (5.4.1)\n",
      "Requirement already satisfied: jsonschema<4.0.0 in /usr/local/lib/python3.6/dist-packages (from seldon-core->-r requirements.txt (line 6)) (3.0.1)\n",
      "Requirement already satisfied: protobuf<4.0.0 in /usr/local/lib/python3.6/dist-packages (from seldon-core->-r requirements.txt (line 6)) (3.17.3)\n",
      "Requirement already satisfied: cryptography==3.4 in /home/jovyan/.local/lib/python3.6/site-packages (from seldon-core->-r requirements.txt (line 6)) (3.4)\n",
      "Requirement already satisfied: requests<3.0.0 in /usr/local/lib/python3.6/dist-packages (from seldon-core->-r requirements.txt (line 6)) (2.22.0)\n",
      "Requirement already satisfied: grpcio<2.0.0 in /home/jovyan/.local/lib/python3.6/site-packages (from seldon-core->-r requirements.txt (line 6)) (1.39.0)\n",
      "Requirement already satisfied: setuptools-rust>=0.11.4 in /home/jovyan/.local/lib/python3.6/site-packages (from cryptography==3.4->seldon-core->-r requirements.txt (line 6)) (0.12.1)\n",
      "Requirement already satisfied: cffi>=1.12 in /usr/local/lib/python3.6/dist-packages (from cryptography==3.4->seldon-core->-r requirements.txt (line 6)) (1.12.3)\n",
      "Requirement already satisfied: pycparser in /usr/local/lib/python3.6/dist-packages (from cffi>=1.12->cryptography==3.4->seldon-core->-r requirements.txt (line 6)) (2.19)\n",
      "Requirement already satisfied: importlib-metadata in /home/jovyan/.local/lib/python3.6/site-packages (from click<8.1,>=8.0.0a1->seldon-core->-r requirements.txt (line 6)) (4.8.1)\n",
      "Requirement already satisfied: itsdangerous>=0.24 in /home/jovyan/.local/lib/python3.6/site-packages (from Flask<2.0.0->seldon-core->-r requirements.txt (line 6)) (2.0.1)\n",
      "Requirement already satisfied: Jinja2>=2.10.1 in /usr/local/lib/python3.6/dist-packages (from Flask<2.0.0->seldon-core->-r requirements.txt (line 6)) (2.10.1)\n",
      "Requirement already satisfied: Werkzeug>=0.15 in /usr/local/lib/python3.6/dist-packages (from Flask<2.0.0->seldon-core->-r requirements.txt (line 6)) (0.15.4)\n",
      "Requirement already satisfied: Six in /usr/local/lib/python3.6/dist-packages (from Flask-cors<4.0.0->seldon-core->-r requirements.txt (line 6)) (1.15.0)\n",
      "Requirement already satisfied: threadloop<2,>=1 in /home/jovyan/.local/lib/python3.6/site-packages (from jaeger-client<4.5.0,>=4.1.0->seldon-core->-r requirements.txt (line 6)) (1.0.2)\n",
      "Requirement already satisfied: thrift in /home/jovyan/.local/lib/python3.6/site-packages (from jaeger-client<4.5.0,>=4.1.0->seldon-core->-r requirements.txt (line 6)) (0.13.0)\n",
      "Requirement already satisfied: MarkupSafe>=0.23 in /usr/local/lib/python3.6/dist-packages (from Jinja2>=2.10.1->Flask<2.0.0->seldon-core->-r requirements.txt (line 6)) (1.1.1)\n",
      "Requirement already satisfied: attrs>=17.4.0 in /usr/local/lib/python3.6/dist-packages (from jsonschema<4.0.0->seldon-core->-r requirements.txt (line 6)) (20.3.0)\n",
      "Requirement already satisfied: pyrsistent>=0.14.0 in /usr/local/lib/python3.6/dist-packages (from jsonschema<4.0.0->seldon-core->-r requirements.txt (line 6)) (0.15.2)\n",
      "Requirement already satisfied: chardet<3.1.0,>=3.0.2 in /usr/local/lib/python3.6/dist-packages (from requests<3.0.0->seldon-core->-r requirements.txt (line 6)) (3.0.4)\n",
      "Requirement already satisfied: idna<2.9,>=2.5 in /usr/lib/python3/dist-packages (from requests<3.0.0->seldon-core->-r requirements.txt (line 6)) (2.6)\n",
      "Requirement already satisfied: certifi>=2017.4.17 in /home/jovyan/.local/lib/python3.6/site-packages (from requests<3.0.0->seldon-core->-r requirements.txt (line 6)) (2021.5.30)\n",
      "Requirement already satisfied: toml>=0.9.0 in /home/jovyan/.local/lib/python3.6/site-packages (from setuptools-rust>=0.11.4->cryptography==3.4->seldon-core->-r requirements.txt (line 6)) (0.10.2)\n",
      "Requirement already satisfied: semantic-version>=2.6.0 in /home/jovyan/.local/lib/python3.6/site-packages (from setuptools-rust>=0.11.4->cryptography==3.4->seldon-core->-r requirements.txt (line 6)) (2.8.5)\n",
      "Requirement already satisfied: zipp>=0.5 in /home/jovyan/.local/lib/python3.6/site-packages (from importlib-metadata->click<8.1,>=8.0.0a1->seldon-core->-r requirements.txt (line 6)) (3.5.0)\n",
      "Requirement already satisfied: typing-extensions>=3.6.4 in /home/jovyan/.local/lib/python3.6/site-packages (from importlib-metadata->click<8.1,>=8.0.0a1->seldon-core->-r requirements.txt (line 6)) (3.10.0.2)\n",
      "Installing collected packages: urllib3\n",
      "  Attempting uninstall: urllib3\n",
      "    Found existing installation: urllib3 1.24.2\n",
      "    Uninstalling urllib3-1.24.2:\n",
      "      Successfully uninstalled urllib3-1.24.2\n",
      "\u001b[31mERROR: pip's dependency resolver does not currently take into account all the packages that are installed. This behaviour is the source of the following dependency conflicts.\n",
      "kubeflow-fairing 1.0.2 requires urllib3==1.24.2, but you have urllib3 1.25.9 which is incompatible.\n",
      "kfp 1.7.1 requires click<8,>=7.1.1, but you have click 8.0.1 which is incompatible.\n",
      "fairing 0.5 requires tornado<6.0.0,>=5.1.1, but you have tornado 6.1 which is incompatible.\u001b[0m\n",
      "Successfully installed urllib3-1.25.9\n"
     ]
    }
   ],
   "source": [
    "!pip install --user -r requirements.txt"
   ]
  },
  {
   "cell_type": "code",
   "execution_count": 1,
   "metadata": {},
   "outputs": [],
   "source": [
    "import argparse\n",
    "import logging\n",
    "import joblib\n",
    "import sys\n",
    "import pandas as pd\n",
    "from sklearn.metrics import mean_absolute_error\n",
    "from sklearn.model_selection import train_test_split\n",
    "from sklearn.impute import SimpleImputer\n",
    "from xgboost import XGBRegressor"
   ]
  },
  {
   "cell_type": "code",
   "execution_count": 2,
   "metadata": {},
   "outputs": [],
   "source": [
    "logging.basicConfig(format='%(message)s')\n",
    "logging.getLogger().setLevel(logging.INFO)"
   ]
  },
  {
   "cell_type": "markdown",
   "metadata": {},
   "source": [
    "Define a function to split the input file into training and testing datasets."
   ]
  },
  {
   "cell_type": "code",
   "execution_count": 3,
   "metadata": {},
   "outputs": [],
   "source": [
    "def read_input(file_name, test_size=0.25):\n",
    "    \"\"\"Read input data and split it into train and test.\"\"\"\n",
    "    data = pd.read_csv(file_name)\n",
    "    data.dropna(axis=0, subset=['SalePrice'], inplace=True)\n",
    "\n",
    "    y = data.SalePrice\n",
    "    X = data.drop(['SalePrice'], axis=1).select_dtypes(exclude=['object'])\n",
    "\n",
    "    train_X, test_X, train_y, test_y = train_test_split(X.values,\n",
    "                                                      y.values,\n",
    "                                                      test_size=test_size,\n",
    "                                                      shuffle=False)\n",
    "\n",
    "    imputer = SimpleImputer()\n",
    "    train_X = imputer.fit_transform(train_X)\n",
    "    test_X = imputer.transform(test_X)\n",
    "\n",
    "    return (train_X, train_y), (test_X, test_y)"
   ]
  },
  {
   "cell_type": "markdown",
   "metadata": {},
   "source": [
    "Define functions to train, evaluate, and save the trained model."
   ]
  },
  {
   "cell_type": "code",
   "execution_count": 4,
   "metadata": {},
   "outputs": [],
   "source": [
    "def train_model(train_X,\n",
    "                train_y,\n",
    "                test_X,\n",
    "                test_y,\n",
    "                n_estimators,\n",
    "                learning_rate):\n",
    "    \"\"\"Train the model using XGBRegressor.\"\"\"\n",
    "    model = XGBRegressor(n_estimators=n_estimators, learning_rate=learning_rate)\n",
    "\n",
    "    model.fit(train_X,\n",
    "            train_y,\n",
    "            early_stopping_rounds=40,\n",
    "            eval_set=[(test_X, test_y)])\n",
    "\n",
    "    print(\"Best RMSE on eval: %.2f with %d rounds\" %\n",
    "               (model.best_score,\n",
    "                model.best_iteration+1))\n",
    "    return model\n",
    "\n",
    "def eval_model(model, test_X, test_y):\n",
    "    \"\"\"Evaluate the model performance.\"\"\"\n",
    "    predictions = model.predict(test_X)\n",
    "    logging.info(\"mean_absolute_error=%.2f\", mean_absolute_error(predictions, test_y))\n",
    "\n",
    "def save_model(model, model_file):\n",
    "    \"\"\"Save XGBoost model for serving.\"\"\"\n",
    "    joblib.dump(model, model_file)\n",
    "    logging.info(\"Model export success: %s\", model_file)"
   ]
  },
  {
   "cell_type": "markdown",
   "metadata": {},
   "source": [
    "Define a class for your model, with methods for training and prediction."
   ]
  },
  {
   "cell_type": "code",
   "execution_count": 5,
   "metadata": {},
   "outputs": [],
   "source": [
    "class HousingServe(object):\n",
    "    \n",
    "    def __init__(self):\n",
    "        self.train_input = \"ames_dataset/train.csv\"\n",
    "        self.n_estimators = 50\n",
    "        self.learning_rate = 0.1\n",
    "        self.model_file = \"trained_ames_model.dat\"\n",
    "        self.model = None\n",
    "\n",
    "    def train(self):\n",
    "        (train_X, train_y), (test_X, test_y) = read_input(self.train_input)\n",
    "        model = train_model(train_X,\n",
    "                          train_y,\n",
    "                          test_X,\n",
    "                          test_y,\n",
    "                          self.n_estimators,\n",
    "                          self.learning_rate)\n",
    "\n",
    "        eval_model(model, test_X, test_y)\n",
    "        save_model(model, self.model_file)\n",
    "\n",
    "    def predict(self, X, feature_names=None):\n",
    "        \"\"\"Predict using the model for given ndarray.\"\"\"\n",
    "        if not self.model:\n",
    "            self.model = joblib.load(self.model_file)\n",
    "        # Do any preprocessing\n",
    "        prediction = self.model.predict(data=X)\n",
    "        # Do any postprocessing\n",
    "        return prediction"
   ]
  },
  {
   "cell_type": "markdown",
   "metadata": {},
   "source": [
    "## Train an XGBoost model in a notebook\n",
    "\n",
    "Call `HousingServe().train()` to train your model, and then evaluate and save your trained model."
   ]
  },
  {
   "cell_type": "code",
   "execution_count": 6,
   "metadata": {},
   "outputs": [
    {
     "name": "stdout",
     "output_type": "stream",
     "text": [
      "[19:30:20] WARNING: /workspace/src/objective/regression_obj.cu:152: reg:linear is now deprecated in favor of reg:squarederror.\n",
      "[0]\tvalidation_0-rmse:177514\n",
      "Will train until validation_0-rmse hasn't improved in 40 rounds.\n",
      "[1]\tvalidation_0-rmse:161858\n",
      "[2]\tvalidation_0-rmse:147237\n",
      "[3]\tvalidation_0-rmse:134132\n",
      "[4]\tvalidation_0-rmse:122224\n",
      "[5]\tvalidation_0-rmse:111538\n",
      "[6]\tvalidation_0-rmse:102142\n",
      "[7]\tvalidation_0-rmse:93392.3\n",
      "[8]\tvalidation_0-rmse:85824.6\n",
      "[9]\tvalidation_0-rmse:79667.6\n",
      "[10]\tvalidation_0-rmse:73463.4\n",
      "[11]\tvalidation_0-rmse:68059.4\n",
      "[12]\tvalidation_0-rmse:63350.5\n",
      "[13]\tvalidation_0-rmse:59732.1\n",
      "[14]\tvalidation_0-rmse:56260.7\n",
      "[15]\tvalidation_0-rmse:53392.6\n",
      "[16]\tvalidation_0-rmse:50770.8\n",
      "[17]\tvalidation_0-rmse:48107.8\n",
      "[18]\tvalidation_0-rmse:45923.9\n",
      "[19]\tvalidation_0-rmse:44154.2\n",
      "[20]\tvalidation_0-rmse:42488.1\n",
      "[21]\tvalidation_0-rmse:41263.3\n",
      "[22]\tvalidation_0-rmse:40212.8\n",
      "[23]\tvalidation_0-rmse:39089.1\n",
      "[24]\tvalidation_0-rmse:37691.1\n",
      "[25]\tvalidation_0-rmse:36875.2\n",
      "[26]\tvalidation_0-rmse:36276.2\n",
      "[27]\tvalidation_0-rmse:35444.1\n",
      "[28]\tvalidation_0-rmse:34831.5\n",
      "[29]\tvalidation_0-rmse:34205.4\n",
      "[30]\tvalidation_0-rmse:33831.9\n",
      "[31]\tvalidation_0-rmse:33183.6\n",
      "[32]\tvalidation_0-rmse:33019.4\n",
      "[33]\tvalidation_0-rmse:32680\n",
      "[34]\tvalidation_0-rmse:32438.5\n",
      "[35]\tvalidation_0-rmse:32130.4\n",
      "[36]\tvalidation_0-rmse:31644.2\n",
      "[37]\tvalidation_0-rmse:31248.9\n",
      "[38]\tvalidation_0-rmse:31059.8\n",
      "[39]\tvalidation_0-rmse:30862.4\n",
      "[40]\tvalidation_0-rmse:30754\n",
      "[41]\tvalidation_0-rmse:30561.6\n",
      "[42]\tvalidation_0-rmse:30416.9\n",
      "[43]\tvalidation_0-rmse:30156.4\n",
      "[44]\tvalidation_0-rmse:29852.9\n",
      "[45]\tvalidation_0-rmse:29486.6\n",
      "[46]\tvalidation_0-rmse:29158.8\n",
      "[47]\tvalidation_0-rmse:29017\n",
      "[48]\tvalidation_0-rmse:28973.9\n",
      "[49]\tvalidation_0-rmse:28787.7\n"
     ]
    },
    {
     "name": "stderr",
     "output_type": "stream",
     "text": [
      "mean_absolute_error=18173.15\n"
     ]
    },
    {
     "name": "stdout",
     "output_type": "stream",
     "text": [
      "Best RMSE on eval: 28787.72 with 50 rounds\n"
     ]
    },
    {
     "name": "stderr",
     "output_type": "stream",
     "text": [
      "Model export success: trained_ames_model.dat\n"
     ]
    }
   ],
   "source": [
    "HousingServe().train()"
   ]
  },
  {
   "cell_type": "markdown",
   "metadata": {},
   "source": [
    "## Set up Kubeflow Fairing for training and predictions\n",
    "\n",
    "Import the `fairing` library and configure the backend environment that your training or prediction job will run in."
   ]
  },
  {
   "cell_type": "code",
   "execution_count": 7,
   "metadata": {
    "tags": [
     "parameters"
    ]
   },
   "outputs": [],
   "source": [
    "# ! pip install kubeflow-fairing==0.6.0\n",
    "import fairing\n",
    "\n",
    "# Default to using the GKE backend.\n",
    "# Change to `KubeflowAzureBackend` or `KubeflowAWSBackend`,etc if you are on other cloud providers.\n",
    "# Appropriately modify settings below for the corresponding backend.\n",
    "FAIRING_BACKEND = 'KubeflowAzureBackend'\n",
    "\n",
    "# If using KubeflowAzureBackend and unless passed to notebook as parameters,\n",
    "# replace below with your configuration (remove < and > characters).\n",
    "DOCKER_REGISTRY = 'auroradevacr.azurecr.io'\n",
    "AZURE_REGION = 'North Europe'\n",
    "AZURE_RESOURCE_GROUP = 'aurora'\n",
    "AZURE_STORAGE_ACCOUNT = 'devaurorasharedsta'"
   ]
  },
  {
   "cell_type": "code",
   "execution_count": 8,
   "metadata": {},
   "outputs": [],
   "source": [
    "# ! pip install msrestazure\n",
    "import importlib\n",
    "\n",
    "# The logic in this cell demonstrates what to change\n",
    "# if wanting to use a different backend such as Cloud ML Engine (GCPManagedBackend),\n",
    "# AKS (KubeflowAzureBackend) or EKS (KubeflowAWSBackend). This cell is also parametrized\n",
    "# so that it allows programmatic execution of the notebook using different backends.\n",
    "\n",
    "if FAIRING_BACKEND in ['KubeflowGKEBackend', 'GCPManagedBackend']:\n",
    "    # Setting up google container repositories (GCR) for storing output containers\n",
    "    GCP_PROJECT = fairing.cloud.gcp.guess_project_name()\n",
    "    DOCKER_REGISTRY = 'gcr.io/{}/fairing-job'.format(GCP_PROJECT)\n",
    "    BuildContext = None\n",
    "if FAIRING_BACKEND == 'KubeflowAzureBackend':\n",
    "    from kubeflow.fairing.builders.cluster.azurestorage_context import StorageContextSource\n",
    "    BuildContext = StorageContextSource(\n",
    "        region=AZURE_REGION, resource_group_name=AZURE_RESOURCE_GROUP,\n",
    "        storage_account_name=AZURE_STORAGE_ACCOUNT\n",
    "    )\n",
    "if FAIRING_BACKEND == 'KubeflowAWSBackend':\n",
    "    from kubeflow.fairing.builders.cluster.s3_context import S3ContextSource\n",
    "    # Change the configuration and use your own region, buckets.\n",
    "    AWS_ACCOUNT_ID = fairing.cloud.aws.guess_account_id()\n",
    "    AWS_REGION = 'us-west-2'\n",
    "    DOCKER_REGISTRY = '{}.dkr.ecr.{}.amazonaws.com'.format(AWS_ACCOUNT_ID, AWS_REGION)\n",
    "    S3_BUCKET = 'kubeflow-fairing-data'\n",
    "    \n",
    "    BuildContext = S3ContextSource(\n",
    "        aws_account=AWS_ACCOUNT_ID, region=AWS_REGION,\n",
    "        bucket_name=S3_BUCKET\n",
    "    )\n",
    "    \n",
    "BackendClass = getattr(importlib.import_module('kubeflow.fairing.backends'), FAIRING_BACKEND)"
   ]
  },
  {
   "cell_type": "markdown",
   "metadata": {},
   "source": [
    "## Train an XGBoost model remotely on Kubeflow\n",
    "\n",
    "Import the `TrainJob` and use the configured backend class. Kubeflow Fairing packages the `HousingServe` class, the training data, and the training job's software prerequisites as a Docker image. Then Kubeflow Fairing deploys and runs the training job on Kubeflow."
   ]
  },
  {
   "cell_type": "code",
   "execution_count": 14,
   "metadata": {},
   "outputs": [
    {
     "name": "stderr",
     "output_type": "stream",
     "text": [
      "Using default base docker image: registry.hub.docker.com/library/python:3.6.8\n",
      "Using builder: <class 'kubeflow.fairing.builders.cluster.cluster.ClusterBuilder'>\n",
      "Building the docker image.\n",
      "Building image using cluster builder.\n",
      "/home/jovyan/.local/lib/python3.6/site-packages/kubeflow/fairing/__init__.py already exists in Fairing context, skipping...\n",
      "Creating docker context: /tmp/fairing_context_6jcxhfbf\n",
      "/home/jovyan/.local/lib/python3.6/site-packages/kubeflow/fairing/__init__.py already exists in Fairing context, skipping...\n",
      "Uploading contents of '/tmp/fairing_context_6jcxhfbf' to 'https://devaurorasharedsta.file.core.windows.net/fairing-builds/build_4B663956'\n",
      "Client-Request-ID=ea67fb82-1d74-11ec-9fe8-02318016452e Outgoing request: Method=GET, Path=/, Query={'comp': 'list', 'prefix': None, 'marker': None, 'maxresults': None, 'include': None, 'timeout': None}, Headers={'x-ms-version': '2018-03-28', 'User-Agent': 'Azure-Storage/1.4.2-1.4.0 (Python CPython 3.6.8; Linux 5.4.0-1051-azure)', 'x-ms-client-request-id': 'ea67fb82-1d74-11ec-9fe8-02318016452e', 'x-ms-date': 'Fri, 24 Sep 2021 20:20:52 GMT', 'Authorization': 'REDACTED'}.\n",
      "Client-Request-ID=ea67fb82-1d74-11ec-9fe8-02318016452e Receiving Response: Server-Timestamp=Fri, 24 Sep 2021 20:20:52 GMT, Server-Request-ID=f21c5d71-201a-006a-6b81-b1c184000000, HTTP Status Code=200, Message=OK, Headers={'transfer-encoding': 'chunked', 'content-type': 'application/xml', 'server': 'Windows-Azure-File/1.0 Microsoft-HTTPAPI/2.0', 'x-ms-request-id': 'f21c5d71-201a-006a-6b81-b1c184000000', 'x-ms-version': '2018-03-28', 'date': 'Fri, 24 Sep 2021 20:20:52 GMT'}.\n",
      "Client-Request-ID=ea740666-1d74-11ec-9fe8-02318016452e Outgoing request: Method=PUT, Path=/fairing-builds/build_4B663956, Query={'restype': 'directory', 'timeout': None}, Headers={'x-ms-version': '2018-03-28', 'User-Agent': 'Azure-Storage/1.4.2-1.4.0 (Python CPython 3.6.8; Linux 5.4.0-1051-azure)', 'x-ms-client-request-id': 'ea740666-1d74-11ec-9fe8-02318016452e', 'x-ms-date': 'Fri, 24 Sep 2021 20:20:52 GMT', 'Authorization': 'REDACTED'}.\n",
      "Client-Request-ID=ea740666-1d74-11ec-9fe8-02318016452e Receiving Response: Server-Timestamp=Fri, 24 Sep 2021 20:20:52 GMT, Server-Request-ID=f21c5d73-201a-006a-6c81-b1c184000000, HTTP Status Code=201, Message=Created, Headers={'content-length': '0', 'last-modified': 'Fri, 24 Sep 2021 20:20:52 GMT', 'etag': '\"0x8D97F98CEA94EB8\"', 'server': 'Windows-Azure-File/1.0 Microsoft-HTTPAPI/2.0', 'x-ms-request-id': 'f21c5d73-201a-006a-6c81-b1c184000000', 'x-ms-version': '2018-03-28', 'x-ms-request-server-encrypted': 'true', 'date': 'Fri, 24 Sep 2021 20:20:52 GMT'}.\n",
      "Client-Request-ID=ea777d5a-1d74-11ec-9fe8-02318016452e Outgoing request: Method=PUT, Path=/fairing-builds/build_4B663956/app, Query={'restype': 'directory', 'timeout': None}, Headers={'x-ms-version': '2018-03-28', 'User-Agent': 'Azure-Storage/1.4.2-1.4.0 (Python CPython 3.6.8; Linux 5.4.0-1051-azure)', 'x-ms-client-request-id': 'ea777d5a-1d74-11ec-9fe8-02318016452e', 'x-ms-date': 'Fri, 24 Sep 2021 20:20:52 GMT', 'Authorization': 'REDACTED'}.\n",
      "Client-Request-ID=ea777d5a-1d74-11ec-9fe8-02318016452e Receiving Response: Server-Timestamp=Fri, 24 Sep 2021 20:20:52 GMT, Server-Request-ID=f21c5d75-201a-006a-6d81-b1c184000000, HTTP Status Code=201, Message=Created, Headers={'content-length': '0', 'last-modified': 'Fri, 24 Sep 2021 20:20:52 GMT', 'etag': '\"0x8D97F98CEAC3483\"', 'server': 'Windows-Azure-File/1.0 Microsoft-HTTPAPI/2.0', 'x-ms-request-id': 'f21c5d75-201a-006a-6d81-b1c184000000', 'x-ms-version': '2018-03-28', 'x-ms-request-server-encrypted': 'true', 'date': 'Fri, 24 Sep 2021 20:20:52 GMT'}.\n",
      "Client-Request-ID=ea7911c4-1d74-11ec-9fe8-02318016452e Outgoing request: Method=PUT, Path=/fairing-builds/build_4B663956/Dockerfile, Query={'timeout': None}, Headers={'x-ms-content-length': '219', 'x-ms-type': 'file', 'x-ms-version': '2018-03-28', 'User-Agent': 'Azure-Storage/1.4.2-1.4.0 (Python CPython 3.6.8; Linux 5.4.0-1051-azure)', 'x-ms-client-request-id': 'ea7911c4-1d74-11ec-9fe8-02318016452e', 'x-ms-date': 'Fri, 24 Sep 2021 20:20:52 GMT', 'Authorization': 'REDACTED'}.\n",
      "Client-Request-ID=ea7911c4-1d74-11ec-9fe8-02318016452e Receiving Response: Server-Timestamp=Fri, 24 Sep 2021 20:20:52 GMT, Server-Request-ID=f21c5d76-201a-006a-6e81-b1c184000000, HTTP Status Code=201, Message=Created, Headers={'content-length': '0', 'last-modified': 'Fri, 24 Sep 2021 20:20:52 GMT', 'etag': '\"0x8D97F98CEADBAE6\"', 'server': 'Windows-Azure-File/1.0 Microsoft-HTTPAPI/2.0', 'x-ms-request-id': 'f21c5d76-201a-006a-6e81-b1c184000000', 'x-ms-version': '2018-03-28', 'x-ms-request-server-encrypted': 'true', 'date': 'Fri, 24 Sep 2021 20:20:52 GMT'}.\n",
      "Client-Request-ID=ea7b28c4-1d74-11ec-90e2-02318016452e Outgoing request: Method=PUT, Path=/fairing-builds/build_4B663956/Dockerfile, Query={'comp': 'range', 'timeout': None}, Headers={'x-ms-write': 'update', 'x-ms-range': 'bytes=0-218', 'Content-Length': '219', 'x-ms-version': '2018-03-28', 'User-Agent': 'Azure-Storage/1.4.2-1.4.0 (Python CPython 3.6.8; Linux 5.4.0-1051-azure)', 'x-ms-client-request-id': 'ea7b28c4-1d74-11ec-90e2-02318016452e', 'x-ms-date': 'Fri, 24 Sep 2021 20:20:52 GMT', 'Authorization': 'REDACTED'}.\n",
      "Client-Request-ID=ea7b28c4-1d74-11ec-90e2-02318016452e Receiving Response: Server-Timestamp=Fri, 24 Sep 2021 20:20:52 GMT, Server-Request-ID=f21c5d77-201a-006a-6f81-b1c184000000, HTTP Status Code=201, Message=Created, Headers={'content-length': '0', 'content-md5': '9H17EFpkTLQdlSzu+NFdWw==', 'last-modified': 'Fri, 24 Sep 2021 20:20:52 GMT', 'etag': '\"0x8D97F98CEB02B90\"', 'server': 'Windows-Azure-File/1.0 Microsoft-HTTPAPI/2.0', 'x-ms-request-id': 'f21c5d77-201a-006a-6f81-b1c184000000', 'x-ms-version': '2018-03-28', 'x-ms-request-server-encrypted': 'true', 'date': 'Fri, 24 Sep 2021 20:20:52 GMT'}.\n",
      "Client-Request-ID=ea7d0bb2-1d74-11ec-9fe8-02318016452e Outgoing request: Method=PUT, Path=/fairing-builds/build_4B663956/app/function_shim.py, Query={'timeout': None}, Headers={'x-ms-content-length': '2628', 'x-ms-type': 'file', 'x-ms-version': '2018-03-28', 'User-Agent': 'Azure-Storage/1.4.2-1.4.0 (Python CPython 3.6.8; Linux 5.4.0-1051-azure)', 'x-ms-client-request-id': 'ea7d0bb2-1d74-11ec-9fe8-02318016452e', 'x-ms-date': 'Fri, 24 Sep 2021 20:20:52 GMT', 'Authorization': 'REDACTED'}.\n",
      "Client-Request-ID=ea7d0bb2-1d74-11ec-9fe8-02318016452e Receiving Response: Server-Timestamp=Fri, 24 Sep 2021 20:20:52 GMT, Server-Request-ID=f21c5d78-201a-006a-7081-b1c184000000, HTTP Status Code=201, Message=Created, Headers={'content-length': '0', 'last-modified': 'Fri, 24 Sep 2021 20:20:52 GMT', 'etag': '\"0x8D97F98CEB1D8FF\"', 'server': 'Windows-Azure-File/1.0 Microsoft-HTTPAPI/2.0', 'x-ms-request-id': 'f21c5d78-201a-006a-7081-b1c184000000', 'x-ms-version': '2018-03-28', 'x-ms-request-server-encrypted': 'true', 'date': 'Fri, 24 Sep 2021 20:20:52 GMT'}.\n",
      "Client-Request-ID=ea7e98ce-1d74-11ec-9cb5-02318016452e Outgoing request: Method=PUT, Path=/fairing-builds/build_4B663956/app/function_shim.py, Query={'comp': 'range', 'timeout': None}, Headers={'x-ms-write': 'update', 'x-ms-range': 'bytes=0-2627', 'Content-Length': '2628', 'x-ms-version': '2018-03-28', 'User-Agent': 'Azure-Storage/1.4.2-1.4.0 (Python CPython 3.6.8; Linux 5.4.0-1051-azure)', 'x-ms-client-request-id': 'ea7e98ce-1d74-11ec-9cb5-02318016452e', 'x-ms-date': 'Fri, 24 Sep 2021 20:20:52 GMT', 'Authorization': 'REDACTED'}.\n",
      "Client-Request-ID=ea7e98ce-1d74-11ec-9cb5-02318016452e Receiving Response: Server-Timestamp=Fri, 24 Sep 2021 20:20:52 GMT, Server-Request-ID=f21c5d7a-201a-006a-7281-b1c184000000, HTTP Status Code=201, Message=Created, Headers={'content-length': '0', 'content-md5': 'UWShrNq20OvWo6fWdCcdHA==', 'last-modified': 'Fri, 24 Sep 2021 20:20:52 GMT', 'etag': '\"0x8D97F98CEB3866D\"', 'server': 'Windows-Azure-File/1.0 Microsoft-HTTPAPI/2.0', 'x-ms-request-id': 'f21c5d7a-201a-006a-7281-b1c184000000', 'x-ms-version': '2018-03-28', 'x-ms-request-server-encrypted': 'true', 'date': 'Fri, 24 Sep 2021 20:20:52 GMT'}.\n",
      "Client-Request-ID=ea804656-1d74-11ec-9fe8-02318016452e Outgoing request: Method=PUT, Path=/fairing-builds/build_4B663956/app/ames_dataset, Query={'restype': 'directory', 'timeout': None}, Headers={'x-ms-version': '2018-03-28', 'User-Agent': 'Azure-Storage/1.4.2-1.4.0 (Python CPython 3.6.8; Linux 5.4.0-1051-azure)', 'x-ms-client-request-id': 'ea804656-1d74-11ec-9fe8-02318016452e', 'x-ms-date': 'Fri, 24 Sep 2021 20:20:52 GMT', 'Authorization': 'REDACTED'}.\n",
      "Client-Request-ID=ea804656-1d74-11ec-9fe8-02318016452e Receiving Response: Server-Timestamp=Fri, 24 Sep 2021 20:20:52 GMT, Server-Request-ID=f21c5d7b-201a-006a-7381-b1c184000000, HTTP Status Code=201, Message=Created, Headers={'content-length': '0', 'last-modified': 'Fri, 24 Sep 2021 20:20:52 GMT', 'etag': '\"0x8D97F98CEB533E5\"', 'server': 'Windows-Azure-File/1.0 Microsoft-HTTPAPI/2.0', 'x-ms-request-id': 'f21c5d7b-201a-006a-7381-b1c184000000', 'x-ms-version': '2018-03-28', 'x-ms-request-server-encrypted': 'true', 'date': 'Fri, 24 Sep 2021 20:20:52 GMT'}.\n",
      "Client-Request-ID=ea82016c-1d74-11ec-9fe8-02318016452e Outgoing request: Method=PUT, Path=/fairing-builds/build_4B663956/app/pickled_fn.p, Query={'timeout': None}, Headers={'x-ms-content-length': '3099', 'x-ms-type': 'file', 'x-ms-version': '2018-03-28', 'User-Agent': 'Azure-Storage/1.4.2-1.4.0 (Python CPython 3.6.8; Linux 5.4.0-1051-azure)', 'x-ms-client-request-id': 'ea82016c-1d74-11ec-9fe8-02318016452e', 'x-ms-date': 'Fri, 24 Sep 2021 20:20:52 GMT', 'Authorization': 'REDACTED'}.\n",
      "Client-Request-ID=ea82016c-1d74-11ec-9fe8-02318016452e Receiving Response: Server-Timestamp=Fri, 24 Sep 2021 20:20:52 GMT, Server-Request-ID=f21c5d7c-201a-006a-7481-b1c184000000, HTTP Status Code=201, Message=Created, Headers={'content-length': '0', 'last-modified': 'Fri, 24 Sep 2021 20:20:52 GMT', 'etag': '\"0x8D97F98CEB6BA53\"', 'server': 'Windows-Azure-File/1.0 Microsoft-HTTPAPI/2.0', 'x-ms-request-id': 'f21c5d7c-201a-006a-7481-b1c184000000', 'x-ms-version': '2018-03-28', 'x-ms-request-server-encrypted': 'true', 'date': 'Fri, 24 Sep 2021 20:20:52 GMT'}.\n",
      "Client-Request-ID=ea83bb74-1d74-11ec-ab83-02318016452e Outgoing request: Method=PUT, Path=/fairing-builds/build_4B663956/app/pickled_fn.p, Query={'comp': 'range', 'timeout': None}, Headers={'x-ms-write': 'update', 'x-ms-range': 'bytes=0-3098', 'Content-Length': '3099', 'x-ms-version': '2018-03-28', 'User-Agent': 'Azure-Storage/1.4.2-1.4.0 (Python CPython 3.6.8; Linux 5.4.0-1051-azure)', 'x-ms-client-request-id': 'ea83bb74-1d74-11ec-ab83-02318016452e', 'x-ms-date': 'Fri, 24 Sep 2021 20:20:52 GMT', 'Authorization': 'REDACTED'}.\n",
      "Client-Request-ID=ea83bb74-1d74-11ec-ab83-02318016452e Receiving Response: Server-Timestamp=Fri, 24 Sep 2021 20:20:52 GMT, Server-Request-ID=f21c5d7d-201a-006a-7581-b1c184000000, HTTP Status Code=201, Message=Created, Headers={'content-length': '0', 'content-md5': 'Zbf7NSXjA3rBuOnDfN/NMA==', 'last-modified': 'Fri, 24 Sep 2021 20:20:52 GMT', 'etag': '\"0x8D97F98CEB8B5D6\"', 'server': 'Windows-Azure-File/1.0 Microsoft-HTTPAPI/2.0', 'x-ms-request-id': 'f21c5d7d-201a-006a-7581-b1c184000000', 'x-ms-version': '2018-03-28', 'x-ms-request-server-encrypted': 'true', 'date': 'Fri, 24 Sep 2021 20:20:52 GMT'}.\n",
      "Client-Request-ID=ea858f26-1d74-11ec-9fe8-02318016452e Outgoing request: Method=PUT, Path=/fairing-builds/build_4B663956/app/requirements.txt, Query={'timeout': None}, Headers={'x-ms-content-length': '82', 'x-ms-type': 'file', 'x-ms-version': '2018-03-28', 'User-Agent': 'Azure-Storage/1.4.2-1.4.0 (Python CPython 3.6.8; Linux 5.4.0-1051-azure)', 'x-ms-client-request-id': 'ea858f26-1d74-11ec-9fe8-02318016452e', 'x-ms-date': 'Fri, 24 Sep 2021 20:20:52 GMT', 'Authorization': 'REDACTED'}.\n",
      "Client-Request-ID=ea858f26-1d74-11ec-9fe8-02318016452e Receiving Response: Server-Timestamp=Fri, 24 Sep 2021 20:20:52 GMT, Server-Request-ID=f21c5d7e-201a-006a-7681-b1c184000000, HTTP Status Code=201, Message=Created, Headers={'content-length': '0', 'last-modified': 'Fri, 24 Sep 2021 20:20:52 GMT', 'etag': '\"0x8D97F98CEBA3C3B\"', 'server': 'Windows-Azure-File/1.0 Microsoft-HTTPAPI/2.0', 'x-ms-request-id': 'f21c5d7e-201a-006a-7681-b1c184000000', 'x-ms-version': '2018-03-28', 'x-ms-request-server-encrypted': 'true', 'date': 'Fri, 24 Sep 2021 20:20:52 GMT'}.\n",
      "Client-Request-ID=ea87507c-1d74-11ec-b73d-02318016452e Outgoing request: Method=PUT, Path=/fairing-builds/build_4B663956/app/requirements.txt, Query={'comp': 'range', 'timeout': None}, Headers={'x-ms-write': 'update', 'x-ms-range': 'bytes=0-81', 'Content-Length': '82', 'x-ms-version': '2018-03-28', 'User-Agent': 'Azure-Storage/1.4.2-1.4.0 (Python CPython 3.6.8; Linux 5.4.0-1051-azure)', 'x-ms-client-request-id': 'ea87507c-1d74-11ec-b73d-02318016452e', 'x-ms-date': 'Fri, 24 Sep 2021 20:20:52 GMT', 'Authorization': 'REDACTED'}.\n",
      "Client-Request-ID=ea87507c-1d74-11ec-b73d-02318016452e Receiving Response: Server-Timestamp=Fri, 24 Sep 2021 20:20:52 GMT, Server-Request-ID=f21c5d7f-201a-006a-7781-b1c184000000, HTTP Status Code=201, Message=Created, Headers={'content-length': '0', 'content-md5': 'B0f8T521F6piwDIBvtyYEw==', 'last-modified': 'Fri, 24 Sep 2021 20:20:52 GMT', 'etag': '\"0x8D97F98CEBC37C5\"', 'server': 'Windows-Azure-File/1.0 Microsoft-HTTPAPI/2.0', 'x-ms-request-id': 'f21c5d7f-201a-006a-7781-b1c184000000', 'x-ms-version': '2018-03-28', 'x-ms-request-server-encrypted': 'true', 'date': 'Fri, 24 Sep 2021 20:20:52 GMT'}.\n",
      "Client-Request-ID=ea88f6ac-1d74-11ec-9fe8-02318016452e Outgoing request: Method=PUT, Path=/fairing-builds/build_4B663956/app/fairing, Query={'restype': 'directory', 'timeout': None}, Headers={'x-ms-version': '2018-03-28', 'User-Agent': 'Azure-Storage/1.4.2-1.4.0 (Python CPython 3.6.8; Linux 5.4.0-1051-azure)', 'x-ms-client-request-id': 'ea88f6ac-1d74-11ec-9fe8-02318016452e', 'x-ms-date': 'Fri, 24 Sep 2021 20:20:52 GMT', 'Authorization': 'REDACTED'}.\n",
      "Client-Request-ID=ea88f6ac-1d74-11ec-9fe8-02318016452e Receiving Response: Server-Timestamp=Fri, 24 Sep 2021 20:20:52 GMT, Server-Request-ID=f21c5d80-201a-006a-7881-b1c184000000, HTTP Status Code=201, Message=Created, Headers={'content-length': '0', 'last-modified': 'Fri, 24 Sep 2021 20:20:52 GMT', 'etag': '\"0x8D97F98CEBDBE2D\"', 'server': 'Windows-Azure-File/1.0 Microsoft-HTTPAPI/2.0', 'x-ms-request-id': 'f21c5d80-201a-006a-7881-b1c184000000', 'x-ms-version': '2018-03-28', 'x-ms-request-server-encrypted': 'true', 'date': 'Fri, 24 Sep 2021 20:20:52 GMT'}.\n",
      "Client-Request-ID=ea8aa736-1d74-11ec-9fe8-02318016452e Outgoing request: Method=PUT, Path=/fairing-builds/build_4B663956/app/HousingServe.py, Query={'timeout': None}, Headers={'x-ms-content-length': '79', 'x-ms-type': 'file', 'x-ms-version': '2018-03-28', 'User-Agent': 'Azure-Storage/1.4.2-1.4.0 (Python CPython 3.6.8; Linux 5.4.0-1051-azure)', 'x-ms-client-request-id': 'ea8aa736-1d74-11ec-9fe8-02318016452e', 'x-ms-date': 'Fri, 24 Sep 2021 20:20:53 GMT', 'Authorization': 'REDACTED'}.\n",
      "Client-Request-ID=ea8aa736-1d74-11ec-9fe8-02318016452e Receiving Response: Server-Timestamp=Fri, 24 Sep 2021 20:20:52 GMT, Server-Request-ID=f21c5d81-201a-006a-7981-b1c184000000, HTTP Status Code=201, Message=Created, Headers={'content-length': '0', 'last-modified': 'Fri, 24 Sep 2021 20:20:53 GMT', 'etag': '\"0x8D97F98CEBF6BA1\"', 'server': 'Windows-Azure-File/1.0 Microsoft-HTTPAPI/2.0', 'x-ms-request-id': 'f21c5d81-201a-006a-7981-b1c184000000', 'x-ms-version': '2018-03-28', 'x-ms-request-server-encrypted': 'true', 'date': 'Fri, 24 Sep 2021 20:20:52 GMT'}.\n",
      "Client-Request-ID=ea8c4816-1d74-11ec-b99f-02318016452e Outgoing request: Method=PUT, Path=/fairing-builds/build_4B663956/app/HousingServe.py, Query={'comp': 'range', 'timeout': None}, Headers={'x-ms-write': 'update', 'x-ms-range': 'bytes=0-78', 'Content-Length': '79', 'x-ms-version': '2018-03-28', 'User-Agent': 'Azure-Storage/1.4.2-1.4.0 (Python CPython 3.6.8; Linux 5.4.0-1051-azure)', 'x-ms-client-request-id': 'ea8c4816-1d74-11ec-b99f-02318016452e', 'x-ms-date': 'Fri, 24 Sep 2021 20:20:53 GMT', 'Authorization': 'REDACTED'}.\n",
      "Client-Request-ID=ea8c4816-1d74-11ec-b99f-02318016452e Receiving Response: Server-Timestamp=Fri, 24 Sep 2021 20:20:52 GMT, Server-Request-ID=f21c5d82-201a-006a-7a81-b1c184000000, HTTP Status Code=201, Message=Created, Headers={'content-length': '0', 'content-md5': 'dVCBDSq0zStVE+jSyyBzrw==', 'last-modified': 'Fri, 24 Sep 2021 20:20:53 GMT', 'etag': '\"0x8D97F98CEC14017\"', 'server': 'Windows-Azure-File/1.0 Microsoft-HTTPAPI/2.0', 'x-ms-request-id': 'f21c5d82-201a-006a-7a81-b1c184000000', 'x-ms-version': '2018-03-28', 'x-ms-request-server-encrypted': 'true', 'date': 'Fri, 24 Sep 2021 20:20:52 GMT'}.\n",
      "Client-Request-ID=ea914744-1d74-11ec-9fe8-02318016452e Outgoing request: Method=PUT, Path=/fairing-builds/build_4B663956/app/cloudpickle, Query={'restype': 'directory', 'timeout': None}, Headers={'x-ms-version': '2018-03-28', 'User-Agent': 'Azure-Storage/1.4.2-1.4.0 (Python CPython 3.6.8; Linux 5.4.0-1051-azure)', 'x-ms-client-request-id': 'ea914744-1d74-11ec-9fe8-02318016452e', 'x-ms-date': 'Fri, 24 Sep 2021 20:20:53 GMT', 'Authorization': 'REDACTED'}.\n",
      "Client-Request-ID=ea914744-1d74-11ec-9fe8-02318016452e Receiving Response: Server-Timestamp=Fri, 24 Sep 2021 20:20:52 GMT, Server-Request-ID=f21c5d83-201a-006a-7b81-b1c184000000, HTTP Status Code=201, Message=Created, Headers={'content-length': '0', 'last-modified': 'Fri, 24 Sep 2021 20:20:53 GMT', 'etag': '\"0x8D97F98CEC62165\"', 'server': 'Windows-Azure-File/1.0 Microsoft-HTTPAPI/2.0', 'x-ms-request-id': 'f21c5d83-201a-006a-7b81-b1c184000000', 'x-ms-version': '2018-03-28', 'x-ms-request-server-encrypted': 'true', 'date': 'Fri, 24 Sep 2021 20:20:52 GMT'}.\n",
      "Client-Request-ID=ea9317cc-1d74-11ec-9fe8-02318016452e Outgoing request: Method=PUT, Path=/fairing-builds/build_4B663956/app/ames_dataset/train.csv, Query={'timeout': None}, Headers={'x-ms-content-length': '460676', 'x-ms-type': 'file', 'x-ms-version': '2018-03-28', 'User-Agent': 'Azure-Storage/1.4.2-1.4.0 (Python CPython 3.6.8; Linux 5.4.0-1051-azure)', 'x-ms-client-request-id': 'ea9317cc-1d74-11ec-9fe8-02318016452e', 'x-ms-date': 'Fri, 24 Sep 2021 20:20:53 GMT', 'Authorization': 'REDACTED'}.\n",
      "Client-Request-ID=ea9317cc-1d74-11ec-9fe8-02318016452e Receiving Response: Server-Timestamp=Fri, 24 Sep 2021 20:20:52 GMT, Server-Request-ID=f21c5d84-201a-006a-7c81-b1c184000000, HTTP Status Code=201, Message=Created, Headers={'content-length': '0', 'last-modified': 'Fri, 24 Sep 2021 20:20:53 GMT', 'etag': '\"0x8D97F98CEC7F5DF\"', 'server': 'Windows-Azure-File/1.0 Microsoft-HTTPAPI/2.0', 'x-ms-request-id': 'f21c5d84-201a-006a-7c81-b1c184000000', 'x-ms-version': '2018-03-28', 'x-ms-request-server-encrypted': 'true', 'date': 'Fri, 24 Sep 2021 20:20:52 GMT'}.\n",
      "Client-Request-ID=ea9546b4-1d74-11ec-a407-02318016452e Outgoing request: Method=PUT, Path=/fairing-builds/build_4B663956/app/ames_dataset/train.csv, Query={'comp': 'range', 'timeout': None}, Headers={'x-ms-write': 'update', 'x-ms-range': 'bytes=0-460675', 'Content-Length': '460676', 'x-ms-version': '2018-03-28', 'User-Agent': 'Azure-Storage/1.4.2-1.4.0 (Python CPython 3.6.8; Linux 5.4.0-1051-azure)', 'x-ms-client-request-id': 'ea9546b4-1d74-11ec-a407-02318016452e', 'x-ms-date': 'Fri, 24 Sep 2021 20:20:53 GMT', 'Authorization': 'REDACTED'}.\n",
      "Client-Request-ID=ea9546b4-1d74-11ec-a407-02318016452e Receiving Response: Server-Timestamp=Fri, 24 Sep 2021 20:20:52 GMT, Server-Request-ID=f21c5d85-201a-006a-7d81-b1c184000000, HTTP Status Code=201, Message=Created, Headers={'content-length': '0', 'content-md5': 'gMyrZfsRXLrRQ9u9K81Vdw==', 'last-modified': 'Fri, 24 Sep 2021 20:20:53 GMT', 'etag': '\"0x8D97F98CECB77D2\"', 'server': 'Windows-Azure-File/1.0 Microsoft-HTTPAPI/2.0', 'x-ms-request-id': 'f21c5d85-201a-006a-7d81-b1c184000000', 'x-ms-version': '2018-03-28', 'x-ms-request-server-encrypted': 'true', 'date': 'Fri, 24 Sep 2021 20:20:52 GMT'}.\n",
      "Client-Request-ID=ea991ea6-1d74-11ec-9fe8-02318016452e Outgoing request: Method=PUT, Path=/fairing-builds/build_4B663956/app/fairing/__init__.py, Query={'timeout': None}, Headers={'x-ms-content-length': '236', 'x-ms-type': 'file', 'x-ms-version': '2018-03-28', 'User-Agent': 'Azure-Storage/1.4.2-1.4.0 (Python CPython 3.6.8; Linux 5.4.0-1051-azure)', 'x-ms-client-request-id': 'ea991ea6-1d74-11ec-9fe8-02318016452e', 'x-ms-date': 'Fri, 24 Sep 2021 20:20:53 GMT', 'Authorization': 'REDACTED'}.\n",
      "Client-Request-ID=ea991ea6-1d74-11ec-9fe8-02318016452e Receiving Response: Server-Timestamp=Fri, 24 Sep 2021 20:20:52 GMT, Server-Request-ID=f21c5d86-201a-006a-7e81-b1c184000000, HTTP Status Code=201, Message=Created, Headers={'content-length': '0', 'last-modified': 'Fri, 24 Sep 2021 20:20:53 GMT', 'etag': '\"0x8D97F98CECDE87A\"', 'server': 'Windows-Azure-File/1.0 Microsoft-HTTPAPI/2.0', 'x-ms-request-id': 'f21c5d86-201a-006a-7e81-b1c184000000', 'x-ms-version': '2018-03-28', 'x-ms-request-server-encrypted': 'true', 'date': 'Fri, 24 Sep 2021 20:20:52 GMT'}.\n",
      "Client-Request-ID=ea9ad2a0-1d74-11ec-ac0b-02318016452e Outgoing request: Method=PUT, Path=/fairing-builds/build_4B663956/app/fairing/__init__.py, Query={'comp': 'range', 'timeout': None}, Headers={'x-ms-write': 'update', 'x-ms-range': 'bytes=0-235', 'Content-Length': '236', 'x-ms-version': '2018-03-28', 'User-Agent': 'Azure-Storage/1.4.2-1.4.0 (Python CPython 3.6.8; Linux 5.4.0-1051-azure)', 'x-ms-client-request-id': 'ea9ad2a0-1d74-11ec-ac0b-02318016452e', 'x-ms-date': 'Fri, 24 Sep 2021 20:20:53 GMT', 'Authorization': 'REDACTED'}.\n",
      "Client-Request-ID=ea9ad2a0-1d74-11ec-ac0b-02318016452e Receiving Response: Server-Timestamp=Fri, 24 Sep 2021 20:20:52 GMT, Server-Request-ID=f21c5d87-201a-006a-7f81-b1c184000000, HTTP Status Code=201, Message=Created, Headers={'content-length': '0', 'content-md5': 'EzlNLmgRjjXhFG6GmS9zmA==', 'last-modified': 'Fri, 24 Sep 2021 20:20:53 GMT', 'etag': '\"0x8D97F98CECFBCF3\"', 'server': 'Windows-Azure-File/1.0 Microsoft-HTTPAPI/2.0', 'x-ms-request-id': 'f21c5d87-201a-006a-7f81-b1c184000000', 'x-ms-version': '2018-03-28', 'x-ms-request-server-encrypted': 'true', 'date': 'Fri, 24 Sep 2021 20:20:52 GMT'}.\n",
      "Client-Request-ID=ea9deeae-1d74-11ec-9fe8-02318016452e Outgoing request: Method=PUT, Path=/fairing-builds/build_4B663956/app/fairing/runtime_config.py, Query={'timeout': None}, Headers={'x-ms-content-length': '856', 'x-ms-type': 'file', 'x-ms-version': '2018-03-28', 'User-Agent': 'Azure-Storage/1.4.2-1.4.0 (Python CPython 3.6.8; Linux 5.4.0-1051-azure)', 'x-ms-client-request-id': 'ea9deeae-1d74-11ec-9fe8-02318016452e', 'x-ms-date': 'Fri, 24 Sep 2021 20:20:53 GMT', 'Authorization': 'REDACTED'}.\n",
      "Client-Request-ID=ea9deeae-1d74-11ec-9fe8-02318016452e Receiving Response: Server-Timestamp=Fri, 24 Sep 2021 20:20:52 GMT, Server-Request-ID=f21c5d88-201a-006a-8081-b1c184000000, HTTP Status Code=201, Message=Created, Headers={'content-length': '0', 'last-modified': 'Fri, 24 Sep 2021 20:20:53 GMT', 'etag': '\"0x8D97F98CED2F0CF\"', 'server': 'Windows-Azure-File/1.0 Microsoft-HTTPAPI/2.0', 'x-ms-request-id': 'f21c5d88-201a-006a-8081-b1c184000000', 'x-ms-version': '2018-03-28', 'x-ms-request-server-encrypted': 'true', 'date': 'Fri, 24 Sep 2021 20:20:52 GMT'}.\n",
      "Client-Request-ID=ea9fd67e-1d74-11ec-844d-02318016452e Outgoing request: Method=PUT, Path=/fairing-builds/build_4B663956/app/fairing/runtime_config.py, Query={'comp': 'range', 'timeout': None}, Headers={'x-ms-write': 'update', 'x-ms-range': 'bytes=0-855', 'Content-Length': '856', 'x-ms-version': '2018-03-28', 'User-Agent': 'Azure-Storage/1.4.2-1.4.0 (Python CPython 3.6.8; Linux 5.4.0-1051-azure)', 'x-ms-client-request-id': 'ea9fd67e-1d74-11ec-844d-02318016452e', 'x-ms-date': 'Fri, 24 Sep 2021 20:20:53 GMT', 'Authorization': 'REDACTED'}.\n",
      "Client-Request-ID=ea9fd67e-1d74-11ec-844d-02318016452e Receiving Response: Server-Timestamp=Fri, 24 Sep 2021 20:20:52 GMT, Server-Request-ID=f21c5d89-201a-006a-0181-b1c184000000, HTTP Status Code=201, Message=Created, Headers={'content-length': '0', 'content-md5': 'T5aAlg6jwHhIoYp+QL8gVQ==', 'last-modified': 'Fri, 24 Sep 2021 20:20:53 GMT', 'etag': '\"0x8D97F98CED4EC52\"', 'server': 'Windows-Azure-File/1.0 Microsoft-HTTPAPI/2.0', 'x-ms-request-id': 'f21c5d89-201a-006a-0181-b1c184000000', 'x-ms-version': '2018-03-28', 'x-ms-request-server-encrypted': 'true', 'date': 'Fri, 24 Sep 2021 20:20:52 GMT'}.\n",
      "Client-Request-ID=eaa1ae40-1d74-11ec-9fe8-02318016452e Outgoing request: Method=PUT, Path=/fairing-builds/build_4B663956/app/cloudpickle/cloudpickle.py, Query={'timeout': None}, Headers={'x-ms-content-length': '52782', 'x-ms-type': 'file', 'x-ms-version': '2018-03-28', 'User-Agent': 'Azure-Storage/1.4.2-1.4.0 (Python CPython 3.6.8; Linux 5.4.0-1051-azure)', 'x-ms-client-request-id': 'eaa1ae40-1d74-11ec-9fe8-02318016452e', 'x-ms-date': 'Fri, 24 Sep 2021 20:20:53 GMT', 'Authorization': 'REDACTED'}.\n",
      "Client-Request-ID=eaa1ae40-1d74-11ec-9fe8-02318016452e Receiving Response: Server-Timestamp=Fri, 24 Sep 2021 20:20:52 GMT, Server-Request-ID=f21c5d8a-201a-006a-0281-b1c184000000, HTTP Status Code=201, Message=Created, Headers={'content-length': '0', 'last-modified': 'Fri, 24 Sep 2021 20:20:53 GMT', 'etag': '\"0x8D97F98CED699C9\"', 'server': 'Windows-Azure-File/1.0 Microsoft-HTTPAPI/2.0', 'x-ms-request-id': 'f21c5d8a-201a-006a-0281-b1c184000000', 'x-ms-version': '2018-03-28', 'x-ms-request-server-encrypted': 'true', 'date': 'Fri, 24 Sep 2021 20:20:52 GMT'}.\n",
      "Client-Request-ID=eaa38706-1d74-11ec-b6c6-02318016452e Outgoing request: Method=PUT, Path=/fairing-builds/build_4B663956/app/cloudpickle/cloudpickle.py, Query={'comp': 'range', 'timeout': None}, Headers={'x-ms-write': 'update', 'x-ms-range': 'bytes=0-52781', 'Content-Length': '52782', 'x-ms-version': '2018-03-28', 'User-Agent': 'Azure-Storage/1.4.2-1.4.0 (Python CPython 3.6.8; Linux 5.4.0-1051-azure)', 'x-ms-client-request-id': 'eaa38706-1d74-11ec-b6c6-02318016452e', 'x-ms-date': 'Fri, 24 Sep 2021 20:20:53 GMT', 'Authorization': 'REDACTED'}.\n",
      "Client-Request-ID=eaa38706-1d74-11ec-b6c6-02318016452e Receiving Response: Server-Timestamp=Fri, 24 Sep 2021 20:20:52 GMT, Server-Request-ID=f21c5d8b-201a-006a-0381-b1c184000000, HTTP Status Code=201, Message=Created, Headers={'content-length': '0', 'content-md5': 'GIvrT7m6erW4DDPM/wUL5A==', 'last-modified': 'Fri, 24 Sep 2021 20:20:53 GMT', 'etag': '\"0x8D97F98CED8954F\"', 'server': 'Windows-Azure-File/1.0 Microsoft-HTTPAPI/2.0', 'x-ms-request-id': 'f21c5d8b-201a-006a-0381-b1c184000000', 'x-ms-version': '2018-03-28', 'x-ms-request-server-encrypted': 'true', 'date': 'Fri, 24 Sep 2021 20:20:52 GMT'}.\n",
      "Client-Request-ID=eaa57e1c-1d74-11ec-9fe8-02318016452e Outgoing request: Method=PUT, Path=/fairing-builds/build_4B663956/app/cloudpickle/__init__.py, Query={'timeout': None}, Headers={'x-ms-content-length': '234', 'x-ms-type': 'file', 'x-ms-version': '2018-03-28', 'User-Agent': 'Azure-Storage/1.4.2-1.4.0 (Python CPython 3.6.8; Linux 5.4.0-1051-azure)', 'x-ms-client-request-id': 'eaa57e1c-1d74-11ec-9fe8-02318016452e', 'x-ms-date': 'Fri, 24 Sep 2021 20:20:53 GMT', 'Authorization': 'REDACTED'}.\n",
      "Client-Request-ID=eaa57e1c-1d74-11ec-9fe8-02318016452e Receiving Response: Server-Timestamp=Fri, 24 Sep 2021 20:20:52 GMT, Server-Request-ID=f21c5d8c-201a-006a-0481-b1c184000000, HTTP Status Code=201, Message=Created, Headers={'content-length': '0', 'last-modified': 'Fri, 24 Sep 2021 20:20:53 GMT', 'etag': '\"0x8D97F98CEDCB366\"', 'server': 'Windows-Azure-File/1.0 Microsoft-HTTPAPI/2.0', 'x-ms-request-id': 'f21c5d8c-201a-006a-0481-b1c184000000', 'x-ms-version': '2018-03-28', 'x-ms-request-server-encrypted': 'true', 'date': 'Fri, 24 Sep 2021 20:20:52 GMT'}.\n",
      "Client-Request-ID=eaa9a744-1d74-11ec-97de-02318016452e Outgoing request: Method=PUT, Path=/fairing-builds/build_4B663956/app/cloudpickle/__init__.py, Query={'comp': 'range', 'timeout': None}, Headers={'x-ms-write': 'update', 'x-ms-range': 'bytes=0-233', 'Content-Length': '234', 'x-ms-version': '2018-03-28', 'User-Agent': 'Azure-Storage/1.4.2-1.4.0 (Python CPython 3.6.8; Linux 5.4.0-1051-azure)', 'x-ms-client-request-id': 'eaa9a744-1d74-11ec-97de-02318016452e', 'x-ms-date': 'Fri, 24 Sep 2021 20:20:53 GMT', 'Authorization': 'REDACTED'}.\n",
      "Client-Request-ID=eaa9a744-1d74-11ec-97de-02318016452e Receiving Response: Server-Timestamp=Fri, 24 Sep 2021 20:20:52 GMT, Server-Request-ID=f21c5d8d-201a-006a-0581-b1c184000000, HTTP Status Code=201, Message=Created, Headers={'content-length': '0', 'content-md5': 'k2l18x1sIbqrNOWjfdzJhg==', 'last-modified': 'Fri, 24 Sep 2021 20:20:53 GMT', 'etag': '\"0x8D97F98CEDEAEEC\"', 'server': 'Windows-Azure-File/1.0 Microsoft-HTTPAPI/2.0', 'x-ms-request-id': 'f21c5d8d-201a-006a-0581-b1c184000000', 'x-ms-version': '2018-03-28', 'x-ms-request-server-encrypted': 'true', 'date': 'Fri, 24 Sep 2021 20:20:52 GMT'}.\n",
      "Creating secret 'storage-credentials-4b663956' in namespace 'pshah'\n"
     ]
    },
    {
     "ename": "ApiException",
     "evalue": "(403)\nReason: Forbidden\nHTTP response headers: HTTPHeaderDict({'Audit-Id': 'c5fd8aab-7717-4890-abc7-05ad428a841d', 'Cache-Control': 'no-cache, private', 'Content-Type': 'application/json', 'Date': 'Fri, 24 Sep 2021 20:20:53 GMT', 'Content-Length': '572'})\nHTTP response body: {\"kind\":\"Status\",\"apiVersion\":\"v1\",\"metadata\":{},\"status\":\"Failure\",\"message\":\"admission webhook \\\"validation.gatekeeper.sh\\\" denied the request: [denied by pod-enforce-labels] you must provide labels: {\\\"WBS\\\"}\\n[denied by container-allowed-images] Container image gcr.io/kaniko-project/executor:v0.7.0 for container kaniko has not been allowed.\",\"reason\":\"[denied by pod-enforce-labels] you must provide labels: {\\\"WBS\\\"}\\n[denied by container-allowed-images] Container image gcr.io/kaniko-project/executor:v0.7.0 for container kaniko has not been allowed.\",\"code\":403}\n\n",
     "output_type": "error",
     "traceback": [
      "\u001b[0;31m---------------------------------------------------------------------------\u001b[0m",
      "\u001b[0;31mApiException\u001b[0m                              Traceback (most recent call last)",
      "\u001b[0;32m<ipython-input-14-ed64d6eea92b>\u001b[0m in \u001b[0;36m<module>\u001b[0;34m\u001b[0m\n\u001b[1;32m      3\u001b[0m                      \u001b[0mdocker_registry\u001b[0m\u001b[0;34m=\u001b[0m\u001b[0mDOCKER_REGISTRY\u001b[0m\u001b[0;34m,\u001b[0m\u001b[0;34m\u001b[0m\u001b[0;34m\u001b[0m\u001b[0m\n\u001b[1;32m      4\u001b[0m                      backend=BackendClass(build_context_source=BuildContext))\n\u001b[0;32m----> 5\u001b[0;31m \u001b[0mtrain_job\u001b[0m\u001b[0;34m.\u001b[0m\u001b[0msubmit\u001b[0m\u001b[0;34m(\u001b[0m\u001b[0;34m)\u001b[0m\u001b[0;34m\u001b[0m\u001b[0;34m\u001b[0m\u001b[0m\n\u001b[0m",
      "\u001b[0;32m~/.local/lib/python3.6/site-packages/kubeflow/fairing/ml_tasks/tasks.py\u001b[0m in \u001b[0;36msubmit\u001b[0;34m(self)\u001b[0m\n\u001b[1;32m     75\u001b[0m \u001b[0;34m\u001b[0m\u001b[0m\n\u001b[1;32m     76\u001b[0m     \u001b[0;32mdef\u001b[0m \u001b[0msubmit\u001b[0m\u001b[0;34m(\u001b[0m\u001b[0mself\u001b[0m\u001b[0;34m)\u001b[0m\u001b[0;34m:\u001b[0m\u001b[0;34m\u001b[0m\u001b[0;34m\u001b[0m\u001b[0m\n\u001b[0;32m---> 77\u001b[0;31m         \u001b[0mself\u001b[0m\u001b[0;34m.\u001b[0m\u001b[0m_build\u001b[0m\u001b[0;34m(\u001b[0m\u001b[0;34m)\u001b[0m\u001b[0;34m\u001b[0m\u001b[0;34m\u001b[0m\u001b[0m\n\u001b[0m\u001b[1;32m     78\u001b[0m         deployer = self._backend.get_training_deployer(\n\u001b[1;32m     79\u001b[0m             pod_spec_mutators=self._pod_spec_mutators)\n",
      "\u001b[0;32m~/.local/lib/python3.6/site-packages/kubeflow/fairing/ml_tasks/tasks.py\u001b[0m in \u001b[0;36m_build\u001b[0;34m(self)\u001b[0m\n\u001b[1;32m     63\u001b[0m     \u001b[0;32mdef\u001b[0m \u001b[0m_build\u001b[0m\u001b[0;34m(\u001b[0m\u001b[0mself\u001b[0m\u001b[0;34m)\u001b[0m\u001b[0;34m:\u001b[0m\u001b[0;34m\u001b[0m\u001b[0;34m\u001b[0m\u001b[0m\n\u001b[1;32m     64\u001b[0m         \u001b[0mlogging\u001b[0m\u001b[0;34m.\u001b[0m\u001b[0minfo\u001b[0m\u001b[0;34m(\u001b[0m\u001b[0;34m\"Building the docker image.\"\u001b[0m\u001b[0;34m)\u001b[0m\u001b[0;34m\u001b[0m\u001b[0;34m\u001b[0m\u001b[0m\n\u001b[0;32m---> 65\u001b[0;31m         \u001b[0mself\u001b[0m\u001b[0;34m.\u001b[0m\u001b[0mbuilder\u001b[0m\u001b[0;34m.\u001b[0m\u001b[0mbuild\u001b[0m\u001b[0;34m(\u001b[0m\u001b[0;34m)\u001b[0m\u001b[0;34m\u001b[0m\u001b[0;34m\u001b[0m\u001b[0m\n\u001b[0m\u001b[1;32m     66\u001b[0m         \u001b[0mself\u001b[0m\u001b[0;34m.\u001b[0m\u001b[0mpod_spec\u001b[0m \u001b[0;34m=\u001b[0m \u001b[0mself\u001b[0m\u001b[0;34m.\u001b[0m\u001b[0mbuilder\u001b[0m\u001b[0;34m.\u001b[0m\u001b[0mgenerate_pod_spec\u001b[0m\u001b[0;34m(\u001b[0m\u001b[0;34m)\u001b[0m\u001b[0;34m\u001b[0m\u001b[0;34m\u001b[0m\u001b[0m\n\u001b[1;32m     67\u001b[0m \u001b[0;34m\u001b[0m\u001b[0m\n",
      "\u001b[0;32m~/.local/lib/python3.6/site-packages/kubeflow/fairing/builders/cluster/cluster.py\u001b[0m in \u001b[0;36mbuild\u001b[0;34m(self)\u001b[0m\n\u001b[1;32m     83\u001b[0m         \u001b[0mcreated_pod\u001b[0m \u001b[0;34m=\u001b[0m \u001b[0mclient\u001b[0m\u001b[0;34m.\u001b[0m\u001b[0;31m \u001b[0m\u001b[0;31m\\\u001b[0m\u001b[0;34m\u001b[0m\u001b[0;34m\u001b[0m\u001b[0m\n\u001b[1;32m     84\u001b[0m             \u001b[0mCoreV1Api\u001b[0m\u001b[0;34m(\u001b[0m\u001b[0;34m)\u001b[0m\u001b[0;34m.\u001b[0m\u001b[0;31m \u001b[0m\u001b[0;31m\\\u001b[0m\u001b[0;34m\u001b[0m\u001b[0;34m\u001b[0m\u001b[0m\n\u001b[0;32m---> 85\u001b[0;31m             \u001b[0mcreate_namespaced_pod\u001b[0m\u001b[0;34m(\u001b[0m\u001b[0mself\u001b[0m\u001b[0;34m.\u001b[0m\u001b[0mnamespace\u001b[0m\u001b[0;34m,\u001b[0m \u001b[0mbuild_pod\u001b[0m\u001b[0;34m)\u001b[0m\u001b[0;34m\u001b[0m\u001b[0;34m\u001b[0m\u001b[0m\n\u001b[0m\u001b[1;32m     86\u001b[0m         self.manager.log(\n\u001b[1;32m     87\u001b[0m             \u001b[0mname\u001b[0m\u001b[0;34m=\u001b[0m\u001b[0mcreated_pod\u001b[0m\u001b[0;34m.\u001b[0m\u001b[0mmetadata\u001b[0m\u001b[0;34m.\u001b[0m\u001b[0mname\u001b[0m\u001b[0;34m,\u001b[0m\u001b[0;34m\u001b[0m\u001b[0;34m\u001b[0m\u001b[0m\n",
      "\u001b[0;32m/usr/local/lib/python3.6/dist-packages/kubernetes/client/apis/core_v1_api.py\u001b[0m in \u001b[0;36mcreate_namespaced_pod\u001b[0;34m(self, namespace, body, **kwargs)\u001b[0m\n\u001b[1;32m   6113\u001b[0m             \u001b[0;32mreturn\u001b[0m \u001b[0mself\u001b[0m\u001b[0;34m.\u001b[0m\u001b[0mcreate_namespaced_pod_with_http_info\u001b[0m\u001b[0;34m(\u001b[0m\u001b[0mnamespace\u001b[0m\u001b[0;34m,\u001b[0m \u001b[0mbody\u001b[0m\u001b[0;34m,\u001b[0m \u001b[0;34m**\u001b[0m\u001b[0mkwargs\u001b[0m\u001b[0;34m)\u001b[0m\u001b[0;34m\u001b[0m\u001b[0;34m\u001b[0m\u001b[0m\n\u001b[1;32m   6114\u001b[0m         \u001b[0;32melse\u001b[0m\u001b[0;34m:\u001b[0m\u001b[0;34m\u001b[0m\u001b[0;34m\u001b[0m\u001b[0m\n\u001b[0;32m-> 6115\u001b[0;31m             \u001b[0;34m(\u001b[0m\u001b[0mdata\u001b[0m\u001b[0;34m)\u001b[0m \u001b[0;34m=\u001b[0m \u001b[0mself\u001b[0m\u001b[0;34m.\u001b[0m\u001b[0mcreate_namespaced_pod_with_http_info\u001b[0m\u001b[0;34m(\u001b[0m\u001b[0mnamespace\u001b[0m\u001b[0;34m,\u001b[0m \u001b[0mbody\u001b[0m\u001b[0;34m,\u001b[0m \u001b[0;34m**\u001b[0m\u001b[0mkwargs\u001b[0m\u001b[0;34m)\u001b[0m\u001b[0;34m\u001b[0m\u001b[0;34m\u001b[0m\u001b[0m\n\u001b[0m\u001b[1;32m   6116\u001b[0m             \u001b[0;32mreturn\u001b[0m \u001b[0mdata\u001b[0m\u001b[0;34m\u001b[0m\u001b[0;34m\u001b[0m\u001b[0m\n\u001b[1;32m   6117\u001b[0m \u001b[0;34m\u001b[0m\u001b[0m\n",
      "\u001b[0;32m/usr/local/lib/python3.6/dist-packages/kubernetes/client/apis/core_v1_api.py\u001b[0m in \u001b[0;36mcreate_namespaced_pod_with_http_info\u001b[0;34m(self, namespace, body, **kwargs)\u001b[0m\n\u001b[1;32m   6204\u001b[0m                                         \u001b[0m_preload_content\u001b[0m\u001b[0;34m=\u001b[0m\u001b[0mparams\u001b[0m\u001b[0;34m.\u001b[0m\u001b[0mget\u001b[0m\u001b[0;34m(\u001b[0m\u001b[0;34m'_preload_content'\u001b[0m\u001b[0;34m,\u001b[0m \u001b[0;32mTrue\u001b[0m\u001b[0;34m)\u001b[0m\u001b[0;34m,\u001b[0m\u001b[0;34m\u001b[0m\u001b[0;34m\u001b[0m\u001b[0m\n\u001b[1;32m   6205\u001b[0m                                         \u001b[0m_request_timeout\u001b[0m\u001b[0;34m=\u001b[0m\u001b[0mparams\u001b[0m\u001b[0;34m.\u001b[0m\u001b[0mget\u001b[0m\u001b[0;34m(\u001b[0m\u001b[0;34m'_request_timeout'\u001b[0m\u001b[0;34m)\u001b[0m\u001b[0;34m,\u001b[0m\u001b[0;34m\u001b[0m\u001b[0;34m\u001b[0m\u001b[0m\n\u001b[0;32m-> 6206\u001b[0;31m                                         collection_formats=collection_formats)\n\u001b[0m\u001b[1;32m   6207\u001b[0m \u001b[0;34m\u001b[0m\u001b[0m\n\u001b[1;32m   6208\u001b[0m     \u001b[0;32mdef\u001b[0m \u001b[0mcreate_namespaced_pod_binding\u001b[0m\u001b[0;34m(\u001b[0m\u001b[0mself\u001b[0m\u001b[0;34m,\u001b[0m \u001b[0mname\u001b[0m\u001b[0;34m,\u001b[0m \u001b[0mnamespace\u001b[0m\u001b[0;34m,\u001b[0m \u001b[0mbody\u001b[0m\u001b[0;34m,\u001b[0m \u001b[0;34m**\u001b[0m\u001b[0mkwargs\u001b[0m\u001b[0;34m)\u001b[0m\u001b[0;34m:\u001b[0m\u001b[0;34m\u001b[0m\u001b[0;34m\u001b[0m\u001b[0m\n",
      "\u001b[0;32m/usr/local/lib/python3.6/dist-packages/kubernetes/client/api_client.py\u001b[0m in \u001b[0;36mcall_api\u001b[0;34m(self, resource_path, method, path_params, query_params, header_params, body, post_params, files, response_type, auth_settings, async_req, _return_http_data_only, collection_formats, _preload_content, _request_timeout)\u001b[0m\n\u001b[1;32m    332\u001b[0m                                    \u001b[0mbody\u001b[0m\u001b[0;34m,\u001b[0m \u001b[0mpost_params\u001b[0m\u001b[0;34m,\u001b[0m \u001b[0mfiles\u001b[0m\u001b[0;34m,\u001b[0m\u001b[0;34m\u001b[0m\u001b[0;34m\u001b[0m\u001b[0m\n\u001b[1;32m    333\u001b[0m                                    \u001b[0mresponse_type\u001b[0m\u001b[0;34m,\u001b[0m \u001b[0mauth_settings\u001b[0m\u001b[0;34m,\u001b[0m\u001b[0;34m\u001b[0m\u001b[0;34m\u001b[0m\u001b[0m\n\u001b[0;32m--> 334\u001b[0;31m                                    _return_http_data_only, collection_formats, _preload_content, _request_timeout)\n\u001b[0m\u001b[1;32m    335\u001b[0m         \u001b[0;32melse\u001b[0m\u001b[0;34m:\u001b[0m\u001b[0;34m\u001b[0m\u001b[0;34m\u001b[0m\u001b[0m\n\u001b[1;32m    336\u001b[0m             thread = self.pool.apply_async(self.__call_api, (resource_path, method,\n",
      "\u001b[0;32m/usr/local/lib/python3.6/dist-packages/kubernetes/client/api_client.py\u001b[0m in \u001b[0;36m__call_api\u001b[0;34m(self, resource_path, method, path_params, query_params, header_params, body, post_params, files, response_type, auth_settings, _return_http_data_only, collection_formats, _preload_content, _request_timeout)\u001b[0m\n\u001b[1;32m    166\u001b[0m                                      \u001b[0mpost_params\u001b[0m\u001b[0;34m=\u001b[0m\u001b[0mpost_params\u001b[0m\u001b[0;34m,\u001b[0m \u001b[0mbody\u001b[0m\u001b[0;34m=\u001b[0m\u001b[0mbody\u001b[0m\u001b[0;34m,\u001b[0m\u001b[0;34m\u001b[0m\u001b[0;34m\u001b[0m\u001b[0m\n\u001b[1;32m    167\u001b[0m                                      \u001b[0m_preload_content\u001b[0m\u001b[0;34m=\u001b[0m\u001b[0m_preload_content\u001b[0m\u001b[0;34m,\u001b[0m\u001b[0;34m\u001b[0m\u001b[0;34m\u001b[0m\u001b[0m\n\u001b[0;32m--> 168\u001b[0;31m                                      _request_timeout=_request_timeout)\n\u001b[0m\u001b[1;32m    169\u001b[0m \u001b[0;34m\u001b[0m\u001b[0m\n\u001b[1;32m    170\u001b[0m         \u001b[0mself\u001b[0m\u001b[0;34m.\u001b[0m\u001b[0mlast_response\u001b[0m \u001b[0;34m=\u001b[0m \u001b[0mresponse_data\u001b[0m\u001b[0;34m\u001b[0m\u001b[0;34m\u001b[0m\u001b[0m\n",
      "\u001b[0;32m/usr/local/lib/python3.6/dist-packages/kubernetes/client/api_client.py\u001b[0m in \u001b[0;36mrequest\u001b[0;34m(self, method, url, query_params, headers, post_params, body, _preload_content, _request_timeout)\u001b[0m\n\u001b[1;32m    375\u001b[0m                                          \u001b[0m_preload_content\u001b[0m\u001b[0;34m=\u001b[0m\u001b[0m_preload_content\u001b[0m\u001b[0;34m,\u001b[0m\u001b[0;34m\u001b[0m\u001b[0;34m\u001b[0m\u001b[0m\n\u001b[1;32m    376\u001b[0m                                          \u001b[0m_request_timeout\u001b[0m\u001b[0;34m=\u001b[0m\u001b[0m_request_timeout\u001b[0m\u001b[0;34m,\u001b[0m\u001b[0;34m\u001b[0m\u001b[0;34m\u001b[0m\u001b[0m\n\u001b[0;32m--> 377\u001b[0;31m                                          body=body)\n\u001b[0m\u001b[1;32m    378\u001b[0m         \u001b[0;32melif\u001b[0m \u001b[0mmethod\u001b[0m \u001b[0;34m==\u001b[0m \u001b[0;34m\"PUT\"\u001b[0m\u001b[0;34m:\u001b[0m\u001b[0;34m\u001b[0m\u001b[0;34m\u001b[0m\u001b[0m\n\u001b[1;32m    379\u001b[0m             return self.rest_client.PUT(url,\n",
      "\u001b[0;32m/usr/local/lib/python3.6/dist-packages/kubernetes/client/rest.py\u001b[0m in \u001b[0;36mPOST\u001b[0;34m(self, url, headers, query_params, post_params, body, _preload_content, _request_timeout)\u001b[0m\n\u001b[1;32m    264\u001b[0m                             \u001b[0m_preload_content\u001b[0m\u001b[0;34m=\u001b[0m\u001b[0m_preload_content\u001b[0m\u001b[0;34m,\u001b[0m\u001b[0;34m\u001b[0m\u001b[0;34m\u001b[0m\u001b[0m\n\u001b[1;32m    265\u001b[0m                             \u001b[0m_request_timeout\u001b[0m\u001b[0;34m=\u001b[0m\u001b[0m_request_timeout\u001b[0m\u001b[0;34m,\u001b[0m\u001b[0;34m\u001b[0m\u001b[0;34m\u001b[0m\u001b[0m\n\u001b[0;32m--> 266\u001b[0;31m                             body=body)\n\u001b[0m\u001b[1;32m    267\u001b[0m \u001b[0;34m\u001b[0m\u001b[0m\n\u001b[1;32m    268\u001b[0m     def PUT(self, url, headers=None, query_params=None, post_params=None, body=None, _preload_content=True,\n",
      "\u001b[0;32m/usr/local/lib/python3.6/dist-packages/kubernetes/client/rest.py\u001b[0m in \u001b[0;36mrequest\u001b[0;34m(self, method, url, query_params, headers, body, post_params, _preload_content, _request_timeout)\u001b[0m\n\u001b[1;32m    220\u001b[0m \u001b[0;34m\u001b[0m\u001b[0m\n\u001b[1;32m    221\u001b[0m         \u001b[0;32mif\u001b[0m \u001b[0;32mnot\u001b[0m \u001b[0;36m200\u001b[0m \u001b[0;34m<=\u001b[0m \u001b[0mr\u001b[0m\u001b[0;34m.\u001b[0m\u001b[0mstatus\u001b[0m \u001b[0;34m<=\u001b[0m \u001b[0;36m299\u001b[0m\u001b[0;34m:\u001b[0m\u001b[0;34m\u001b[0m\u001b[0;34m\u001b[0m\u001b[0m\n\u001b[0;32m--> 222\u001b[0;31m             \u001b[0;32mraise\u001b[0m \u001b[0mApiException\u001b[0m\u001b[0;34m(\u001b[0m\u001b[0mhttp_resp\u001b[0m\u001b[0;34m=\u001b[0m\u001b[0mr\u001b[0m\u001b[0;34m)\u001b[0m\u001b[0;34m\u001b[0m\u001b[0;34m\u001b[0m\u001b[0m\n\u001b[0m\u001b[1;32m    223\u001b[0m \u001b[0;34m\u001b[0m\u001b[0m\n\u001b[1;32m    224\u001b[0m         \u001b[0;32mreturn\u001b[0m \u001b[0mr\u001b[0m\u001b[0;34m\u001b[0m\u001b[0;34m\u001b[0m\u001b[0m\n",
      "\u001b[0;31mApiException\u001b[0m: (403)\nReason: Forbidden\nHTTP response headers: HTTPHeaderDict({'Audit-Id': 'c5fd8aab-7717-4890-abc7-05ad428a841d', 'Cache-Control': 'no-cache, private', 'Content-Type': 'application/json', 'Date': 'Fri, 24 Sep 2021 20:20:53 GMT', 'Content-Length': '572'})\nHTTP response body: {\"kind\":\"Status\",\"apiVersion\":\"v1\",\"metadata\":{},\"status\":\"Failure\",\"message\":\"admission webhook \\\"validation.gatekeeper.sh\\\" denied the request: [denied by pod-enforce-labels] you must provide labels: {\\\"WBS\\\"}\\n[denied by container-allowed-images] Container image gcr.io/kaniko-project/executor:v0.7.0 for container kaniko has not been allowed.\",\"reason\":\"[denied by pod-enforce-labels] you must provide labels: {\\\"WBS\\\"}\\n[denied by container-allowed-images] Container image gcr.io/kaniko-project/executor:v0.7.0 for container kaniko has not been allowed.\",\"code\":403}\n\n"
     ]
    }
   ],
   "source": [
    "from kubeflow.fairing import TrainJob\n",
    "train_job = TrainJob(HousingServe, input_files=['ames_dataset/train.csv', \"requirements.txt\"],\n",
    "                     docker_registry=DOCKER_REGISTRY,\n",
    "                     backend=BackendClass(build_context_source=BuildContext))\n",
    "train_job.submit()"
   ]
  },
  {
   "cell_type": "markdown",
   "metadata": {},
   "source": [
    "## Deploy the trained model to Kubeflow for predictions\n",
    "\n",
    "Import the `PredictionEndpoint` and use the configured backend class. Kubeflow Fairing packages the `HousingServe` class, the trained model, and the prediction endpoint's software prerequisites as a Docker image. Then Kubeflow Fairing deploys and runs the prediction endpoint on Kubeflow."
   ]
  },
  {
   "cell_type": "code",
   "execution_count": null,
   "metadata": {},
   "outputs": [],
   "source": [
    "from kubeflow.fairing import PredictionEndpoint\n",
    "endpoint = PredictionEndpoint(HousingServe, input_files=['trained_ames_model.dat', \"requirements.txt\"],\n",
    "                              service_type='LoadBalancer',\n",
    "                              docker_registry=DOCKER_REGISTRY,\n",
    "                              backend=BackendClass(build_context_source=BuildContext))\n",
    "endpoint.create()"
   ]
  },
  {
   "cell_type": "markdown",
   "metadata": {},
   "source": [
    "## Call the prediction endpoint\n",
    "\n",
    "Create a test dataset, then call the endpoint on Kubeflow for predictions."
   ]
  },
  {
   "cell_type": "code",
   "execution_count": null,
   "metadata": {},
   "outputs": [],
   "source": [
    "(train_X, train_y), (test_X, test_y) = read_input(\"ames_dataset/train.csv\")\n",
    "endpoint.predict_nparray(test_X)\n"
   ]
  },
  {
   "cell_type": "markdown",
   "metadata": {},
   "source": [
    "## Clean up the prediction endpoint\n",
    "\n",
    "Delete the prediction endpoint created by this notebook."
   ]
  },
  {
   "cell_type": "code",
   "execution_count": null,
   "metadata": {},
   "outputs": [],
   "source": [
    "endpoint.delete()"
   ]
  }
 ],
 "metadata": {
  "celltoolbar": "Tags",
  "kernelspec": {
   "display_name": "Python 3",
   "language": "python",
   "name": "python3"
  },
  "kubeflow_notebook": {
   "autosnapshot": false,
   "docker_image": "auroradevacr.azurecr.io/kale/kf-kale-notebook-server:Rev00",
   "experiment": {
    "id": "",
    "name": ""
   },
   "experiment_name": "",
   "katib_metadata": {
    "algorithm": {
     "algorithmName": "grid"
    },
    "maxFailedTrialCount": 3,
    "maxTrialCount": 12,
    "objective": {
     "objectiveMetricName": "",
     "type": "minimize"
    },
    "parallelTrialCount": 3,
    "parameters": []
   },
   "katib_run": false,
   "pipeline_description": "",
   "pipeline_name": "",
   "snapshot_volumes": false,
   "steps_defaults": [
    "label:us-wellperf-pod-labels:true"
   ],
   "volume_access_mode": "rwm",
   "volumes": []
  },
  "language_info": {
   "codemirror_mode": {
    "name": "ipython",
    "version": 3
   },
   "file_extension": ".py",
   "mimetype": "text/x-python",
   "name": "python",
   "nbconvert_exporter": "python",
   "pygments_lexer": "ipython3",
   "version": "3.6.8"
  }
 },
 "nbformat": 4,
 "nbformat_minor": 4
}
